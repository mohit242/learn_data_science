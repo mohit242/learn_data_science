{
 "cells": [
  {
   "cell_type": "markdown",
   "metadata": {},
   "source": [
    "# Keras"
   ]
  },
  {
   "cell_type": "code",
   "execution_count": 22,
   "metadata": {
    "collapsed": true
   },
   "outputs": [],
   "source": [
    "from keras.models import Sequential\n",
    "\n",
    "model = Sequential()"
   ]
  },
  {
   "cell_type": "code",
   "execution_count": 23,
   "metadata": {
    "collapsed": true
   },
   "outputs": [],
   "source": [
    "from keras.layers import Dense\n",
    "model.add(Dense(units=64, activation='relu',input_dim=100))\n",
    "model.add(Dense(units=10,activation='softmax'))"
   ]
  },
  {
   "cell_type": "code",
   "execution_count": 24,
   "metadata": {
    "collapsed": true
   },
   "outputs": [],
   "source": [
    "model.compile(loss='categorical_crossentropy',\n",
    "             optimizer='sgd',\n",
    "             metrics=['accuracy'])"
   ]
  },
  {
   "cell_type": "code",
   "execution_count": null,
   "metadata": {
    "collapsed": true
   },
   "outputs": [],
   "source": []
  },
  {
   "cell_type": "code",
   "execution_count": 9,
   "metadata": {
    "collapsed": true
   },
   "outputs": [],
   "source": [
    "simple= Sequential()\n",
    "simple.add(Dense(32,activation='relu',input_dim=100))\n",
    "simple.add(Dense(1,activation='sigmoid'))\n",
    "simple.compile(optimizer='rmsprop',\n",
    "             loss='binary_crossentropy',\n",
    "             metrics=['accuracy'])"
   ]
  },
  {
   "cell_type": "code",
   "execution_count": 12,
   "metadata": {},
   "outputs": [
    {
     "name": "stdout",
     "output_type": "stream",
     "text": [
      "Epoch 1/10\n",
      "1000/1000 [==============================] - 2s 2ms/step - loss: 0.7167 - acc: 0.4960\n",
      "Epoch 2/10\n",
      "1000/1000 [==============================] - 1s 554us/step - loss: 0.6961 - acc: 0.5130\n",
      "Epoch 3/10\n",
      "1000/1000 [==============================] - 1s 541us/step - loss: 0.6893 - acc: 0.5440\n",
      "Epoch 4/10\n",
      "1000/1000 [==============================] - 1s 578us/step - loss: 0.6834 - acc: 0.5730\n",
      "Epoch 5/10\n",
      "1000/1000 [==============================] - 1s 988us/step - loss: 0.6822 - acc: 0.5670\n",
      "Epoch 6/10\n",
      "1000/1000 [==============================] - 1s 574us/step - loss: 0.6774 - acc: 0.5720\n",
      "Epoch 7/10\n",
      "1000/1000 [==============================] - 1s 747us/step - loss: 0.6760 - acc: 0.5790\n",
      "Epoch 8/10\n",
      "1000/1000 [==============================] - 1s 684us/step - loss: 0.6733 - acc: 0.5930\n",
      "Epoch 9/10\n",
      "1000/1000 [==============================] - 0s 372us/step - loss: 0.6696 - acc: 0.6160\n",
      "Epoch 10/10\n",
      "1000/1000 [==============================] - 0s 425us/step - loss: 0.6674 - acc: 0.6070\n"
     ]
    },
    {
     "data": {
      "text/plain": [
       "<keras.callbacks.History at 0x7fd4bd7ffeb8>"
      ]
     },
     "execution_count": 12,
     "metadata": {},
     "output_type": "execute_result"
    }
   ],
   "source": [
    "import numpy as np\n",
    "data = np.random.random((1000,100))\n",
    "labels = np.random.randint(2,size=(1000,1))\n",
    "simple.fit(data,labels,epochs=10,batch_size=32)"
   ]
  },
  {
   "cell_type": "code",
   "execution_count": 26,
   "metadata": {},
   "outputs": [
    {
     "data": {
      "image/png": "[encoded data removed]",
      "text/plain": [
       "<matplotlib.figure.Figure at 0x7fd447805908>"
      ]
     },
     "metadata": {},
     "output_type": "display_data"
    }
   ],
   "source": [
    "import matplotlib.pyplot as plt\n",
    "results=simple.predict(data)\n",
    "results=np.where(results>0.5,1,0)\n",
    "plt.scatter(np.arange(50),results[0:50],c='r',marker='o')\n",
    "plt.scatter(np.arange(50),labels[0:50],c='b',marker='x')\n",
    "plt.show()\n",
    "# print(results)"
   ]
  },
  {
   "cell_type": "markdown",
   "metadata": {},
   "source": [
    "## MLP for multi-class softmax classification"
   ]
  },
  {
   "cell_type": "code",
   "execution_count": 2,
   "metadata": {},
   "outputs": [
    {
     "name": "stdout",
     "output_type": "stream",
     "text": [
      "WARNING:tensorflow:Variable *= will be deprecated. Use variable.assign_mul if you want assignment to the variable value or 'x = x * y' if you want a new python Tensor object.\n",
      "Epoch 1/20\n",
      "1000/1000 [==============================] - 2s 2ms/step - loss: 2.3759 - acc: 0.1010\n",
      "Epoch 2/20\n",
      "1000/1000 [==============================] - 0s 178us/step - loss: 2.3619 - acc: 0.0880\n",
      "Epoch 3/20\n",
      "1000/1000 [==============================] - 0s 152us/step - loss: 2.3391 - acc: 0.0990\n",
      "Epoch 4/20\n",
      "1000/1000 [==============================] - 0s 127us/step - loss: 2.3050 - acc: 0.1200\n",
      "Epoch 5/20\n",
      "1000/1000 [==============================] - 0s 102us/step - loss: 2.3053 - acc: 0.1130\n",
      "Epoch 6/20\n",
      "1000/1000 [==============================] - 0s 76us/step - loss: 2.3098 - acc: 0.1110\n",
      "Epoch 7/20\n",
      "1000/1000 [==============================] - 0s 99us/step - loss: 2.3272 - acc: 0.1010\n",
      "Epoch 8/20\n",
      "1000/1000 [==============================] - 0s 62us/step - loss: 2.3146 - acc: 0.0900\n",
      "Epoch 9/20\n",
      "1000/1000 [==============================] - 0s 112us/step - loss: 2.3124 - acc: 0.1120\n",
      "Epoch 10/20\n",
      "1000/1000 [==============================] - 0s 88us/step - loss: 2.3032 - acc: 0.1150\n",
      "Epoch 11/20\n",
      "1000/1000 [==============================] - 0s 75us/step - loss: 2.3105 - acc: 0.1270\n",
      "Epoch 12/20\n",
      "1000/1000 [==============================] - 0s 84us/step - loss: 2.2971 - acc: 0.1100\n",
      "Epoch 13/20\n",
      "1000/1000 [==============================] - 0s 50us/step - loss: 2.3010 - acc: 0.1240\n",
      "Epoch 14/20\n",
      "1000/1000 [==============================] - 0s 144us/step - loss: 2.3063 - acc: 0.1140\n",
      "Epoch 15/20\n",
      "1000/1000 [==============================] - 0s 88us/step - loss: 2.2941 - acc: 0.1350\n",
      "Epoch 16/20\n",
      "1000/1000 [==============================] - 0s 113us/step - loss: 2.2965 - acc: 0.1200\n",
      "Epoch 17/20\n",
      "1000/1000 [==============================] - 0s 94us/step - loss: 2.2965 - acc: 0.1280\n",
      "Epoch 18/20\n",
      "1000/1000 [==============================] - 0s 70us/step - loss: 2.3023 - acc: 0.1150\n",
      "Epoch 19/20\n",
      "1000/1000 [==============================] - 0s 131us/step - loss: 2.2951 - acc: 0.1260\n",
      "Epoch 20/20\n",
      "1000/1000 [==============================] - 0s 37us/step - loss: 2.2925 - acc: 0.1120\n",
      "100/100 [==============================] - 0s 705us/step\n"
     ]
    }
   ],
   "source": [
    "import keras\n",
    "from keras.models import Sequential\n",
    "from keras.layers import Dense, Dropout, Flatten\n",
    "from keras.layers import Conv2D, MaxPooling2D\n",
    "from keras.optimizers import SGD\n",
    "import numpy as np\n",
    "x_train= np.random.random((1000,20))\n",
    "y_train= keras.utils.to_categorical(np.random.randint(10,size=(1000,1)),\n",
    "                                   num_classes=10)\n",
    "x_test= np.random.random((100,20))\n",
    "y_test= keras.utils.to_categorical(np.random.randint(10,size=(100,1)),\n",
    "                                   num_classes=10)\n",
    "model = Sequential()\n",
    "model.add(Dense(64,activation='relu',input_dim=20))\n",
    "model.add(keras.layers.Dropout(0.5))\n",
    "model.add(Dense(64,activation='relu'))\n",
    "model.add(keras.layers.Dropout(0.5))\n",
    "model.add(Dense(10,activation='softmax'))\n",
    "\n",
    "sgd=keras.optimizers.SGD(lr=0.01,decay=1e-6,momentum=0.9,nesterov=True)\n",
    "model.compile(loss='categorical_crossentropy',optimizer=sgd,\n",
    "             metrics=['accuracy'])\n",
    "model.fit(x_train,y_train,\n",
    "         epochs=20,batch_size=128)\n",
    "score=model.evaluate(x_test,y_test,batch_size=128)"
   ]
  },
  {
   "cell_type": "code",
   "execution_count": 34,
   "metadata": {},
   "outputs": [
    {
     "name": "stdout",
     "output_type": "stream",
     "text": [
      "[2.297171115875244, 0.1599999964237213]\n"
     ]
    }
   ],
   "source": [
    "print(score)"
   ]
  },
  {
   "cell_type": "markdown",
   "metadata": {},
   "source": [
    "## VGG like convnet"
   ]
  },
  {
   "cell_type": "code",
   "execution_count": null,
   "metadata": {},
   "outputs": [
    {
     "name": "stdout",
     "output_type": "stream",
     "text": [
      "WARNING:tensorflow:Variable *= will be deprecated. Use variable.assign_mul if you want assignment to the variable value or 'x = x * y' if you want a new python Tensor object.\n",
      "Epoch 1/10\n"
     ]
    }
   ],
   "source": [
    "import numpy as np\n",
    "import keras\n",
    "from keras.models import Sequential\n",
    "from keras.layers import Dense, Dropout, Flatten\n",
    "from keras.layers import Conv2D, MaxPooling2D\n",
    "from keras.optimizers import SGD\n",
    "\n",
    "# Generate dummy data\n",
    "x_train = np.random.random((100, 100, 100, 3))\n",
    "y_train = keras.utils.to_categorical(np.random.randint(10, size=(100, 1)), num_classes=10)\n",
    "x_test = np.random.random((20, 100, 100, 3))\n",
    "y_test = keras.utils.to_categorical(np.random.randint(10, size=(20, 1)), num_classes=10)\n",
    "\n",
    "model = Sequential()\n",
    "# input: 100x100 images with 3 channels -> (100, 100, 3) tensors.\n",
    "# this applies 32 convolution filters of size 3x3 each.\n",
    "model.add(Conv2D(32, (3, 3), activation='relu', input_shape=(100, 100, 3)))\n",
    "model.add(Conv2D(32, (3, 3), activation='relu'))\n",
    "model.add(MaxPooling2D(pool_size=(2, 2)))\n",
    "model.add(Dropout(0.25))\n",
    "\n",
    "model.add(Conv2D(64, (3, 3), activation='relu'))\n",
    "model.add(Conv2D(64, (3, 3), activation='relu'))\n",
    "model.add(MaxPooling2D(pool_size=(2, 2)))\n",
    "model.add(Dropout(0.25))\n",
    "\n",
    "model.add(Flatten())\n",
    "model.add(Dense(256, activation='relu'))\n",
    "model.add(Dropout(0.5))\n",
    "model.add(Dense(10, activation='softmax'))\n",
    "\n",
    "sgd = SGD(lr=0.01, decay=1e-6, momentum=0.9, nesterov=True)\n",
    "model.compile(loss='categorical_crossentropy', optimizer=sgd)\n",
    "\n",
    "model.fit(x_train, y_train, batch_size=10, epochs=10)\n",
    "score = model.evaluate(x_test, y_test, batch_size=10)"
   ]
  }
 ],
 "metadata": {
  "kernelspec": {
   "display_name": "Python 3",
   "language": "python",
   "name": "python3"
  },
  "language_info": {
   "codemirror_mode": {
    "name": "ipython",
    "version": 3
   },
   "file_extension": ".py",
   "mimetype": "text/x-python",
   "name": "python",
   "nbconvert_exporter": "python",
   "pygments_lexer": "ipython3",
   "version": "3.5.2"
  }
 },
 "nbformat": 4,
 "nbformat_minor": 2
}
